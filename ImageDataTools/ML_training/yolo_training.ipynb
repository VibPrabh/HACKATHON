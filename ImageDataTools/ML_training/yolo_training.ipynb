{
 "cells": [
  {
   "cell_type": "code",
   "execution_count": 8,
   "metadata": {},
   "outputs": [
    {
     "name": "stdout",
     "output_type": "stream",
     "text": [
      "Ultralytics 8.3.91 🚀 Python-3.12.2 torch-2.2.1 CPU (Apple M1 Pro)\n",
      "\u001b[34m\u001b[1mengine/trainer: \u001b[0mtask=classify, mode=train, model=yolo11n-cls.pt, data=/Users/nicholask/Desktop/HACKATHON/datasets/PaHaW_2, epochs=55, time=None, patience=100, batch=16, imgsz=224, save=True, save_period=-1, cache=False, device=None, workers=8, project=None, name=train8, exist_ok=False, pretrained=True, optimizer=auto, verbose=True, seed=0, deterministic=True, single_cls=False, rect=False, cos_lr=False, close_mosaic=10, resume=False, amp=True, fraction=1.0, profile=False, freeze=None, multi_scale=False, overlap_mask=True, mask_ratio=4, dropout=0.0, val=True, split=val, save_json=False, save_hybrid=False, conf=None, iou=0.7, max_det=300, half=False, dnn=False, plots=True, source=None, vid_stride=1, stream_buffer=False, visualize=False, augment=False, agnostic_nms=False, classes=None, retina_masks=False, embed=None, show=False, save_frames=False, save_txt=False, save_conf=False, save_crop=False, show_labels=True, show_conf=True, show_boxes=True, line_width=None, format=torchscript, keras=False, optimize=False, int8=False, dynamic=False, simplify=True, opset=None, workspace=None, nms=False, lr0=0.01, lrf=0.01, momentum=0.937, weight_decay=0.0005, warmup_epochs=3.0, warmup_momentum=0.8, warmup_bias_lr=0.1, box=7.5, cls=0.5, dfl=1.5, pose=12.0, kobj=1.0, nbs=64, hsv_h=0.015, hsv_s=0.7, hsv_v=0.4, degrees=0.0, translate=0.1, scale=0.5, shear=0.0, perspective=0.0, flipud=0.0, fliplr=0.5, bgr=0.0, mosaic=1.0, mixup=0.0, copy_paste=0.0, copy_paste_mode=flip, auto_augment=randaugment, erasing=0.4, crop_fraction=1.0, cfg=None, tracker=botsort.yaml, save_dir=runs/classify/train8\n",
      "\u001b[34m\u001b[1mtrain:\u001b[0m /Users/nicholask/Desktop/HACKATHON/datasets/PaHaW_2/train... found 119 images in 4 classes ✅ \n",
      "\u001b[34m\u001b[1mval:\u001b[0m None...\n",
      "\u001b[34m\u001b[1mtest:\u001b[0m /Users/nicholask/Desktop/HACKATHON/datasets/PaHaW_2/test... found 26 images in 4 classes ✅ \n",
      "Overriding model.yaml nc=80 with nc=4\n",
      "\n",
      "                   from  n    params  module                                       arguments                     \n",
      "  0                  -1  1       464  ultralytics.nn.modules.conv.Conv             [3, 16, 3, 2]                 \n",
      "  1                  -1  1      4672  ultralytics.nn.modules.conv.Conv             [16, 32, 3, 2]                \n",
      "  2                  -1  1      6640  ultralytics.nn.modules.block.C3k2            [32, 64, 1, False, 0.25]      \n",
      "  3                  -1  1     36992  ultralytics.nn.modules.conv.Conv             [64, 64, 3, 2]                \n",
      "  4                  -1  1     26080  ultralytics.nn.modules.block.C3k2            [64, 128, 1, False, 0.25]     \n",
      "  5                  -1  1    147712  ultralytics.nn.modules.conv.Conv             [128, 128, 3, 2]              \n",
      "  6                  -1  1     87040  ultralytics.nn.modules.block.C3k2            [128, 128, 1, True]           \n",
      "  7                  -1  1    295424  ultralytics.nn.modules.conv.Conv             [128, 256, 3, 2]              \n",
      "  8                  -1  1    346112  ultralytics.nn.modules.block.C3k2            [256, 256, 1, True]           \n",
      "  9                  -1  1    249728  ultralytics.nn.modules.block.C2PSA           [256, 256, 1]                 \n",
      " 10                  -1  1    335364  ultralytics.nn.modules.head.Classify         [256, 4]                      \n",
      "YOLO11n-cls summary: 86 layers, 1,536,228 parameters, 1,536,228 gradients, 3.3 GFLOPs\n",
      "Transferred 234/236 items from pretrained weights\n"
     ]
    },
    {
     "name": "stderr",
     "output_type": "stream",
     "text": [
      "\u001b[34m\u001b[1mtrain: \u001b[0mScanning /Users/nicholask/Desktop/HACKATHON/datasets/PaHaW_2/train... 119 images, 0 corrupt: 100%|██████████| 119/119 [00:00<?, ?it/s]\n",
      "\u001b[34m\u001b[1mval: \u001b[0mScanning /Users/nicholask/Desktop/HACKATHON/datasets/PaHaW_2/test... 26 images, 0 corrupt: 100%|██████████| 26/26 [00:00<?, ?it/s]"
     ]
    },
    {
     "name": "stdout",
     "output_type": "stream",
     "text": [
      "\u001b[34m\u001b[1moptimizer:\u001b[0m 'optimizer=auto' found, ignoring 'lr0=0.01' and 'momentum=0.937' and determining best 'optimizer', 'lr0' and 'momentum' automatically... \n",
      "\u001b[34m\u001b[1moptimizer:\u001b[0m AdamW(lr=0.00125, momentum=0.9) with parameter groups 39 weight(decay=0.0), 40 weight(decay=0.0005), 40 bias(decay=0.0)\n",
      "Image sizes 224 train, 224 val\n",
      "Using 0 dataloader workers\n",
      "Logging results to \u001b[1mruns/classify/train8\u001b[0m\n",
      "Starting training for 55 epochs...\n",
      "\n",
      "      Epoch    GPU_mem       loss  Instances       Size\n"
     ]
    },
    {
     "name": "stderr",
     "output_type": "stream",
     "text": [
      "\n",
      "       1/55         0G      1.322          7        224: 100%|██████████| 8/8 [00:06<00:00,  1.27it/s]\n",
      "               classes   top1_acc   top5_acc: 100%|██████████| 1/1 [00:00<00:00,  2.65it/s]"
     ]
    },
    {
     "name": "stdout",
     "output_type": "stream",
     "text": [
      "                   all      0.154          1\n",
      "\n",
      "      Epoch    GPU_mem       loss  Instances       Size\n"
     ]
    },
    {
     "name": "stderr",
     "output_type": "stream",
     "text": [
      "\n",
      "       2/55         0G      1.106          7        224: 100%|██████████| 8/8 [00:05<00:00,  1.36it/s]\n",
      "               classes   top1_acc   top5_acc: 100%|██████████| 1/1 [00:00<00:00,  2.74it/s]"
     ]
    },
    {
     "name": "stdout",
     "output_type": "stream",
     "text": [
      "                   all      0.346          1\n",
      "\n",
      "      Epoch    GPU_mem       loss  Instances       Size\n"
     ]
    },
    {
     "name": "stderr",
     "output_type": "stream",
     "text": [
      "\n",
      "       3/55         0G     0.9929          7        224: 100%|██████████| 8/8 [00:05<00:00,  1.38it/s]\n",
      "               classes   top1_acc   top5_acc: 100%|██████████| 1/1 [00:00<00:00,  2.74it/s]"
     ]
    },
    {
     "name": "stdout",
     "output_type": "stream",
     "text": [
      "                   all      0.346          1\n",
      "\n",
      "      Epoch    GPU_mem       loss  Instances       Size\n"
     ]
    },
    {
     "name": "stderr",
     "output_type": "stream",
     "text": [
      "\n",
      "       4/55         0G     0.9422          7        224: 100%|██████████| 8/8 [00:05<00:00,  1.38it/s]\n",
      "               classes   top1_acc   top5_acc: 100%|██████████| 1/1 [00:00<00:00,  2.73it/s]"
     ]
    },
    {
     "name": "stdout",
     "output_type": "stream",
     "text": [
      "                   all      0.346          1\n",
      "\n",
      "      Epoch    GPU_mem       loss  Instances       Size\n"
     ]
    },
    {
     "name": "stderr",
     "output_type": "stream",
     "text": [
      "\n",
      "       5/55         0G     0.9989          7        224: 100%|██████████| 8/8 [00:05<00:00,  1.38it/s]\n",
      "               classes   top1_acc   top5_acc: 100%|██████████| 1/1 [00:00<00:00,  2.74it/s]"
     ]
    },
    {
     "name": "stdout",
     "output_type": "stream",
     "text": [
      "                   all      0.346          1\n",
      "\n",
      "      Epoch    GPU_mem       loss  Instances       Size\n"
     ]
    },
    {
     "name": "stderr",
     "output_type": "stream",
     "text": [
      "\n",
      "       6/55         0G      0.839          7        224: 100%|██████████| 8/8 [00:05<00:00,  1.38it/s]\n",
      "               classes   top1_acc   top5_acc: 100%|██████████| 1/1 [00:00<00:00,  2.76it/s]"
     ]
    },
    {
     "name": "stdout",
     "output_type": "stream",
     "text": [
      "                   all      0.423          1\n",
      "\n",
      "      Epoch    GPU_mem       loss  Instances       Size\n"
     ]
    },
    {
     "name": "stderr",
     "output_type": "stream",
     "text": [
      "\n",
      "       7/55         0G     0.8562          7        224: 100%|██████████| 8/8 [00:05<00:00,  1.38it/s]\n",
      "               classes   top1_acc   top5_acc: 100%|██████████| 1/1 [00:00<00:00,  2.74it/s]"
     ]
    },
    {
     "name": "stdout",
     "output_type": "stream",
     "text": [
      "                   all      0.462          1\n",
      "\n",
      "      Epoch    GPU_mem       loss  Instances       Size\n"
     ]
    },
    {
     "name": "stderr",
     "output_type": "stream",
     "text": [
      "\n",
      "       8/55         0G     0.7997          7        224: 100%|██████████| 8/8 [00:05<00:00,  1.38it/s]\n",
      "               classes   top1_acc   top5_acc: 100%|██████████| 1/1 [00:00<00:00,  2.77it/s]"
     ]
    },
    {
     "name": "stdout",
     "output_type": "stream",
     "text": [
      "                   all        0.5          1\n",
      "\n",
      "      Epoch    GPU_mem       loss  Instances       Size\n"
     ]
    },
    {
     "name": "stderr",
     "output_type": "stream",
     "text": [
      "\n",
      "       9/55         0G     0.7914          7        224: 100%|██████████| 8/8 [00:05<00:00,  1.38it/s]\n",
      "               classes   top1_acc   top5_acc: 100%|██████████| 1/1 [00:00<00:00,  2.77it/s]"
     ]
    },
    {
     "name": "stdout",
     "output_type": "stream",
     "text": [
      "                   all        0.5          1\n",
      "\n",
      "      Epoch    GPU_mem       loss  Instances       Size\n"
     ]
    },
    {
     "name": "stderr",
     "output_type": "stream",
     "text": [
      "\n",
      "      10/55         0G     0.6595          7        224: 100%|██████████| 8/8 [00:05<00:00,  1.39it/s]\n",
      "               classes   top1_acc   top5_acc: 100%|██████████| 1/1 [00:00<00:00,  2.72it/s]"
     ]
    },
    {
     "name": "stdout",
     "output_type": "stream",
     "text": [
      "                   all        0.5          1\n",
      "\n",
      "      Epoch    GPU_mem       loss  Instances       Size\n"
     ]
    },
    {
     "name": "stderr",
     "output_type": "stream",
     "text": [
      "\n",
      "      11/55         0G     0.6852          7        224: 100%|██████████| 8/8 [00:05<00:00,  1.37it/s]\n",
      "               classes   top1_acc   top5_acc: 100%|██████████| 1/1 [00:00<00:00,  2.66it/s]"
     ]
    },
    {
     "name": "stdout",
     "output_type": "stream",
     "text": [
      "                   all      0.462          1\n",
      "\n",
      "      Epoch    GPU_mem       loss  Instances       Size\n"
     ]
    },
    {
     "name": "stderr",
     "output_type": "stream",
     "text": [
      "\n",
      "      12/55         0G     0.6845          7        224: 100%|██████████| 8/8 [00:05<00:00,  1.39it/s]\n",
      "               classes   top1_acc   top5_acc: 100%|██████████| 1/1 [00:00<00:00,  2.76it/s]"
     ]
    },
    {
     "name": "stdout",
     "output_type": "stream",
     "text": [
      "                   all      0.385          1\n",
      "\n",
      "      Epoch    GPU_mem       loss  Instances       Size\n"
     ]
    },
    {
     "name": "stderr",
     "output_type": "stream",
     "text": [
      "\n",
      "      13/55         0G     0.7006          7        224: 100%|██████████| 8/8 [00:05<00:00,  1.40it/s]\n",
      "               classes   top1_acc   top5_acc: 100%|██████████| 1/1 [00:00<00:00,  2.74it/s]"
     ]
    },
    {
     "name": "stdout",
     "output_type": "stream",
     "text": [
      "                   all        0.5          1\n",
      "\n",
      "      Epoch    GPU_mem       loss  Instances       Size\n"
     ]
    },
    {
     "name": "stderr",
     "output_type": "stream",
     "text": [
      "\n",
      "      14/55         0G     0.5683          7        224: 100%|██████████| 8/8 [00:05<00:00,  1.40it/s]\n",
      "               classes   top1_acc   top5_acc: 100%|██████████| 1/1 [00:00<00:00,  2.76it/s]"
     ]
    },
    {
     "name": "stdout",
     "output_type": "stream",
     "text": [
      "                   all        0.5          1\n",
      "\n",
      "      Epoch    GPU_mem       loss  Instances       Size\n"
     ]
    },
    {
     "name": "stderr",
     "output_type": "stream",
     "text": [
      "\n",
      "      15/55         0G     0.6762          7        224: 100%|██████████| 8/8 [00:05<00:00,  1.39it/s]\n",
      "               classes   top1_acc   top5_acc: 100%|██████████| 1/1 [00:00<00:00,  2.72it/s]"
     ]
    },
    {
     "name": "stdout",
     "output_type": "stream",
     "text": [
      "                   all      0.462          1\n",
      "\n",
      "      Epoch    GPU_mem       loss  Instances       Size\n"
     ]
    },
    {
     "name": "stderr",
     "output_type": "stream",
     "text": [
      "\n",
      "      16/55         0G     0.6177          7        224: 100%|██████████| 8/8 [00:05<00:00,  1.39it/s]\n",
      "               classes   top1_acc   top5_acc: 100%|██████████| 1/1 [00:00<00:00,  2.74it/s]"
     ]
    },
    {
     "name": "stdout",
     "output_type": "stream",
     "text": [
      "                   all        0.5          1\n",
      "\n",
      "      Epoch    GPU_mem       loss  Instances       Size\n"
     ]
    },
    {
     "name": "stderr",
     "output_type": "stream",
     "text": [
      "\n",
      "      17/55         0G     0.5361          7        224: 100%|██████████| 8/8 [00:05<00:00,  1.39it/s]\n",
      "               classes   top1_acc   top5_acc: 100%|██████████| 1/1 [00:00<00:00,  2.76it/s]"
     ]
    },
    {
     "name": "stdout",
     "output_type": "stream",
     "text": [
      "                   all        0.5          1\n",
      "\n",
      "      Epoch    GPU_mem       loss  Instances       Size\n"
     ]
    },
    {
     "name": "stderr",
     "output_type": "stream",
     "text": [
      "\n",
      "      18/55         0G     0.5599          7        224: 100%|██████████| 8/8 [00:05<00:00,  1.39it/s]\n",
      "               classes   top1_acc   top5_acc: 100%|██████████| 1/1 [00:00<00:00,  2.73it/s]"
     ]
    },
    {
     "name": "stdout",
     "output_type": "stream",
     "text": [
      "                   all      0.423          1\n",
      "\n",
      "      Epoch    GPU_mem       loss  Instances       Size\n"
     ]
    },
    {
     "name": "stderr",
     "output_type": "stream",
     "text": [
      "\n",
      "      19/55         0G     0.5595          7        224: 100%|██████████| 8/8 [00:05<00:00,  1.35it/s]\n",
      "               classes   top1_acc   top5_acc: 100%|██████████| 1/1 [00:00<00:00,  2.73it/s]"
     ]
    },
    {
     "name": "stdout",
     "output_type": "stream",
     "text": [
      "                   all      0.462          1\n",
      "\n",
      "      Epoch    GPU_mem       loss  Instances       Size\n"
     ]
    },
    {
     "name": "stderr",
     "output_type": "stream",
     "text": [
      "\n",
      "      20/55         0G     0.5833          7        224: 100%|██████████| 8/8 [00:06<00:00,  1.32it/s]\n",
      "               classes   top1_acc   top5_acc: 100%|██████████| 1/1 [00:00<00:00,  2.65it/s]"
     ]
    },
    {
     "name": "stdout",
     "output_type": "stream",
     "text": [
      "                   all        0.5          1\n",
      "\n",
      "      Epoch    GPU_mem       loss  Instances       Size\n"
     ]
    },
    {
     "name": "stderr",
     "output_type": "stream",
     "text": [
      "\n",
      "      21/55         0G     0.5606          7        224: 100%|██████████| 8/8 [00:05<00:00,  1.38it/s]\n",
      "               classes   top1_acc   top5_acc: 100%|██████████| 1/1 [00:00<00:00,  2.76it/s]"
     ]
    },
    {
     "name": "stdout",
     "output_type": "stream",
     "text": [
      "                   all      0.538          1\n",
      "\n",
      "      Epoch    GPU_mem       loss  Instances       Size\n"
     ]
    },
    {
     "name": "stderr",
     "output_type": "stream",
     "text": [
      "\n",
      "      22/55         0G     0.4927          7        224: 100%|██████████| 8/8 [00:05<00:00,  1.39it/s]\n",
      "               classes   top1_acc   top5_acc: 100%|██████████| 1/1 [00:00<00:00,  2.78it/s]"
     ]
    },
    {
     "name": "stdout",
     "output_type": "stream",
     "text": [
      "                   all      0.538          1\n",
      "\n",
      "      Epoch    GPU_mem       loss  Instances       Size\n"
     ]
    },
    {
     "name": "stderr",
     "output_type": "stream",
     "text": [
      "\n",
      "      23/55         0G     0.4932          7        224: 100%|██████████| 8/8 [00:05<00:00,  1.40it/s]\n",
      "               classes   top1_acc   top5_acc: 100%|██████████| 1/1 [00:00<00:00,  2.77it/s]"
     ]
    },
    {
     "name": "stdout",
     "output_type": "stream",
     "text": [
      "                   all      0.538          1\n",
      "\n",
      "      Epoch    GPU_mem       loss  Instances       Size\n"
     ]
    },
    {
     "name": "stderr",
     "output_type": "stream",
     "text": [
      "\n",
      "      24/55         0G     0.4552          7        224: 100%|██████████| 8/8 [00:05<00:00,  1.40it/s]\n",
      "               classes   top1_acc   top5_acc: 100%|██████████| 1/1 [00:00<00:00,  2.76it/s]"
     ]
    },
    {
     "name": "stdout",
     "output_type": "stream",
     "text": [
      "                   all      0.538          1\n",
      "\n",
      "      Epoch    GPU_mem       loss  Instances       Size\n"
     ]
    },
    {
     "name": "stderr",
     "output_type": "stream",
     "text": [
      "\n",
      "      25/55         0G     0.4471          7        224: 100%|██████████| 8/8 [00:05<00:00,  1.39it/s]\n",
      "               classes   top1_acc   top5_acc: 100%|██████████| 1/1 [00:00<00:00,  2.79it/s]"
     ]
    },
    {
     "name": "stdout",
     "output_type": "stream",
     "text": [
      "                   all      0.538          1\n",
      "\n",
      "      Epoch    GPU_mem       loss  Instances       Size\n"
     ]
    },
    {
     "name": "stderr",
     "output_type": "stream",
     "text": [
      "\n",
      "      26/55         0G     0.4451          7        224: 100%|██████████| 8/8 [00:05<00:00,  1.39it/s]\n",
      "               classes   top1_acc   top5_acc: 100%|██████████| 1/1 [00:00<00:00,  2.75it/s]"
     ]
    },
    {
     "name": "stdout",
     "output_type": "stream",
     "text": [
      "                   all      0.538          1\n",
      "\n",
      "      Epoch    GPU_mem       loss  Instances       Size\n"
     ]
    },
    {
     "name": "stderr",
     "output_type": "stream",
     "text": [
      "\n",
      "      27/55         0G     0.3845          7        224: 100%|██████████| 8/8 [00:05<00:00,  1.40it/s]\n",
      "               classes   top1_acc   top5_acc: 100%|██████████| 1/1 [00:00<00:00,  2.77it/s]"
     ]
    },
    {
     "name": "stdout",
     "output_type": "stream",
     "text": [
      "                   all      0.423          1\n",
      "\n",
      "      Epoch    GPU_mem       loss  Instances       Size\n"
     ]
    },
    {
     "name": "stderr",
     "output_type": "stream",
     "text": [
      "\n",
      "      28/55         0G     0.4167          7        224: 100%|██████████| 8/8 [00:05<00:00,  1.40it/s]\n",
      "               classes   top1_acc   top5_acc: 100%|██████████| 1/1 [00:00<00:00,  2.75it/s]"
     ]
    },
    {
     "name": "stdout",
     "output_type": "stream",
     "text": [
      "                   all        0.5          1\n",
      "\n",
      "      Epoch    GPU_mem       loss  Instances       Size\n"
     ]
    },
    {
     "name": "stderr",
     "output_type": "stream",
     "text": [
      "\n",
      "      29/55         0G     0.3958          7        224: 100%|██████████| 8/8 [00:05<00:00,  1.38it/s]\n",
      "               classes   top1_acc   top5_acc: 100%|██████████| 1/1 [00:00<00:00,  2.74it/s]"
     ]
    },
    {
     "name": "stdout",
     "output_type": "stream",
     "text": [
      "                   all      0.615          1\n",
      "\n",
      "      Epoch    GPU_mem       loss  Instances       Size\n"
     ]
    },
    {
     "name": "stderr",
     "output_type": "stream",
     "text": [
      "\n",
      "      30/55         0G     0.3296          7        224: 100%|██████████| 8/8 [00:05<00:00,  1.39it/s]\n",
      "               classes   top1_acc   top5_acc: 100%|██████████| 1/1 [00:00<00:00,  2.74it/s]"
     ]
    },
    {
     "name": "stdout",
     "output_type": "stream",
     "text": [
      "                   all      0.731          1\n",
      "\n",
      "      Epoch    GPU_mem       loss  Instances       Size\n"
     ]
    },
    {
     "name": "stderr",
     "output_type": "stream",
     "text": [
      "\n",
      "      31/55         0G      0.352          7        224: 100%|██████████| 8/8 [00:05<00:00,  1.39it/s]\n",
      "               classes   top1_acc   top5_acc: 100%|██████████| 1/1 [00:00<00:00,  2.75it/s]"
     ]
    },
    {
     "name": "stdout",
     "output_type": "stream",
     "text": [
      "                   all      0.769          1\n",
      "\n",
      "      Epoch    GPU_mem       loss  Instances       Size\n"
     ]
    },
    {
     "name": "stderr",
     "output_type": "stream",
     "text": [
      "\n",
      "      32/55         0G     0.5712          7        224: 100%|██████████| 8/8 [00:05<00:00,  1.40it/s]\n",
      "               classes   top1_acc   top5_acc: 100%|██████████| 1/1 [00:00<00:00,  2.77it/s]"
     ]
    },
    {
     "name": "stdout",
     "output_type": "stream",
     "text": [
      "                   all      0.692          1\n",
      "\n",
      "      Epoch    GPU_mem       loss  Instances       Size\n"
     ]
    },
    {
     "name": "stderr",
     "output_type": "stream",
     "text": [
      "\n",
      "      33/55         0G     0.4006          7        224: 100%|██████████| 8/8 [00:05<00:00,  1.40it/s]\n",
      "               classes   top1_acc   top5_acc: 100%|██████████| 1/1 [00:00<00:00,  2.75it/s]"
     ]
    },
    {
     "name": "stdout",
     "output_type": "stream",
     "text": [
      "                   all      0.654          1\n",
      "\n",
      "      Epoch    GPU_mem       loss  Instances       Size\n"
     ]
    },
    {
     "name": "stderr",
     "output_type": "stream",
     "text": [
      "\n",
      "      34/55         0G     0.3355          7        224: 100%|██████████| 8/8 [00:05<00:00,  1.40it/s]\n",
      "               classes   top1_acc   top5_acc: 100%|██████████| 1/1 [00:00<00:00,  2.75it/s]"
     ]
    },
    {
     "name": "stdout",
     "output_type": "stream",
     "text": [
      "                   all      0.538          1\n",
      "\n",
      "      Epoch    GPU_mem       loss  Instances       Size\n"
     ]
    },
    {
     "name": "stderr",
     "output_type": "stream",
     "text": [
      "\n",
      "      35/55         0G     0.2913          7        224: 100%|██████████| 8/8 [00:05<00:00,  1.39it/s]\n",
      "               classes   top1_acc   top5_acc: 100%|██████████| 1/1 [00:00<00:00,  2.78it/s]"
     ]
    },
    {
     "name": "stdout",
     "output_type": "stream",
     "text": [
      "                   all      0.538          1\n",
      "\n",
      "      Epoch    GPU_mem       loss  Instances       Size\n"
     ]
    },
    {
     "name": "stderr",
     "output_type": "stream",
     "text": [
      "\n",
      "      36/55         0G     0.4357          7        224: 100%|██████████| 8/8 [00:05<00:00,  1.34it/s]\n",
      "               classes   top1_acc   top5_acc: 100%|██████████| 1/1 [00:00<00:00,  2.77it/s]"
     ]
    },
    {
     "name": "stdout",
     "output_type": "stream",
     "text": [
      "                   all      0.538          1\n",
      "\n",
      "      Epoch    GPU_mem       loss  Instances       Size\n"
     ]
    },
    {
     "name": "stderr",
     "output_type": "stream",
     "text": [
      "\n",
      "      37/55         0G     0.2326          7        224: 100%|██████████| 8/8 [00:05<00:00,  1.40it/s]\n",
      "               classes   top1_acc   top5_acc: 100%|██████████| 1/1 [00:00<00:00,  2.70it/s]"
     ]
    },
    {
     "name": "stdout",
     "output_type": "stream",
     "text": [
      "                   all      0.538          1\n",
      "\n",
      "      Epoch    GPU_mem       loss  Instances       Size\n"
     ]
    },
    {
     "name": "stderr",
     "output_type": "stream",
     "text": [
      "\n",
      "      38/55         0G     0.2587          7        224: 100%|██████████| 8/8 [00:05<00:00,  1.39it/s]\n",
      "               classes   top1_acc   top5_acc: 100%|██████████| 1/1 [00:00<00:00,  2.78it/s]"
     ]
    },
    {
     "name": "stdout",
     "output_type": "stream",
     "text": [
      "                   all      0.538          1\n",
      "\n",
      "      Epoch    GPU_mem       loss  Instances       Size\n"
     ]
    },
    {
     "name": "stderr",
     "output_type": "stream",
     "text": [
      "\n",
      "      39/55         0G     0.2405          7        224: 100%|██████████| 8/8 [00:05<00:00,  1.40it/s]\n",
      "               classes   top1_acc   top5_acc: 100%|██████████| 1/1 [00:00<00:00,  2.73it/s]"
     ]
    },
    {
     "name": "stdout",
     "output_type": "stream",
     "text": [
      "                   all      0.731          1\n",
      "\n",
      "      Epoch    GPU_mem       loss  Instances       Size\n"
     ]
    },
    {
     "name": "stderr",
     "output_type": "stream",
     "text": [
      "\n",
      "      40/55         0G     0.2398          7        224: 100%|██████████| 8/8 [00:05<00:00,  1.40it/s]\n",
      "               classes   top1_acc   top5_acc: 100%|██████████| 1/1 [00:00<00:00,  2.74it/s]"
     ]
    },
    {
     "name": "stdout",
     "output_type": "stream",
     "text": [
      "                   all      0.808          1\n",
      "\n",
      "      Epoch    GPU_mem       loss  Instances       Size\n"
     ]
    },
    {
     "name": "stderr",
     "output_type": "stream",
     "text": [
      "\n",
      "      41/55         0G     0.2189          7        224: 100%|██████████| 8/8 [00:05<00:00,  1.40it/s]\n",
      "               classes   top1_acc   top5_acc: 100%|██████████| 1/1 [00:00<00:00,  2.78it/s]"
     ]
    },
    {
     "name": "stdout",
     "output_type": "stream",
     "text": [
      "                   all      0.808          1\n",
      "\n",
      "      Epoch    GPU_mem       loss  Instances       Size\n"
     ]
    },
    {
     "name": "stderr",
     "output_type": "stream",
     "text": [
      "\n",
      "      42/55         0G     0.1634          7        224: 100%|██████████| 8/8 [00:05<00:00,  1.39it/s]\n",
      "               classes   top1_acc   top5_acc: 100%|██████████| 1/1 [00:00<00:00,  2.70it/s]"
     ]
    },
    {
     "name": "stdout",
     "output_type": "stream",
     "text": [
      "                   all      0.846          1\n",
      "\n",
      "      Epoch    GPU_mem       loss  Instances       Size\n"
     ]
    },
    {
     "name": "stderr",
     "output_type": "stream",
     "text": [
      "\n",
      "      43/55         0G      0.164          7        224: 100%|██████████| 8/8 [00:05<00:00,  1.38it/s]\n",
      "               classes   top1_acc   top5_acc: 100%|██████████| 1/1 [00:00<00:00,  1.87it/s]"
     ]
    },
    {
     "name": "stdout",
     "output_type": "stream",
     "text": [
      "                   all      0.846          1\n",
      "\n",
      "      Epoch    GPU_mem       loss  Instances       Size\n"
     ]
    },
    {
     "name": "stderr",
     "output_type": "stream",
     "text": [
      "\n",
      "      44/55         0G     0.1983          7        224: 100%|██████████| 8/8 [00:05<00:00,  1.34it/s]\n",
      "               classes   top1_acc   top5_acc: 100%|██████████| 1/1 [00:00<00:00,  2.69it/s]"
     ]
    },
    {
     "name": "stdout",
     "output_type": "stream",
     "text": [
      "                   all      0.808          1\n",
      "\n",
      "      Epoch    GPU_mem       loss  Instances       Size\n"
     ]
    },
    {
     "name": "stderr",
     "output_type": "stream",
     "text": [
      "\n",
      "      45/55         0G     0.1847          7        224: 100%|██████████| 8/8 [00:05<00:00,  1.38it/s]\n",
      "               classes   top1_acc   top5_acc: 100%|██████████| 1/1 [00:00<00:00,  2.65it/s]"
     ]
    },
    {
     "name": "stdout",
     "output_type": "stream",
     "text": [
      "                   all      0.846          1\n",
      "\n",
      "      Epoch    GPU_mem       loss  Instances       Size\n"
     ]
    },
    {
     "name": "stderr",
     "output_type": "stream",
     "text": [
      "\n",
      "      46/55         0G     0.1656          7        224: 100%|██████████| 8/8 [00:06<00:00,  1.32it/s]\n",
      "               classes   top1_acc   top5_acc: 100%|██████████| 1/1 [00:00<00:00,  2.74it/s]"
     ]
    },
    {
     "name": "stdout",
     "output_type": "stream",
     "text": [
      "                   all      0.846          1\n",
      "\n",
      "      Epoch    GPU_mem       loss  Instances       Size\n"
     ]
    },
    {
     "name": "stderr",
     "output_type": "stream",
     "text": [
      "\n",
      "      47/55         0G     0.1961          7        224: 100%|██████████| 8/8 [00:06<00:00,  1.33it/s]\n",
      "               classes   top1_acc   top5_acc: 100%|██████████| 1/1 [00:00<00:00,  2.26it/s]"
     ]
    },
    {
     "name": "stdout",
     "output_type": "stream",
     "text": [
      "                   all      0.808          1\n",
      "\n",
      "      Epoch    GPU_mem       loss  Instances       Size\n"
     ]
    },
    {
     "name": "stderr",
     "output_type": "stream",
     "text": [
      "\n",
      "      48/55         0G     0.1784          7        224: 100%|██████████| 8/8 [00:06<00:00,  1.32it/s]\n",
      "               classes   top1_acc   top5_acc: 100%|██████████| 1/1 [00:00<00:00,  2.62it/s]"
     ]
    },
    {
     "name": "stdout",
     "output_type": "stream",
     "text": [
      "                   all      0.846          1\n",
      "\n",
      "      Epoch    GPU_mem       loss  Instances       Size\n"
     ]
    },
    {
     "name": "stderr",
     "output_type": "stream",
     "text": [
      "\n",
      "      49/55         0G      0.159          7        224: 100%|██████████| 8/8 [00:05<00:00,  1.39it/s]\n",
      "               classes   top1_acc   top5_acc: 100%|██████████| 1/1 [00:00<00:00,  2.73it/s]"
     ]
    },
    {
     "name": "stdout",
     "output_type": "stream",
     "text": [
      "                   all      0.846          1\n",
      "\n",
      "      Epoch    GPU_mem       loss  Instances       Size\n"
     ]
    },
    {
     "name": "stderr",
     "output_type": "stream",
     "text": [
      "\n",
      "      50/55         0G     0.1819          7        224: 100%|██████████| 8/8 [00:05<00:00,  1.38it/s]\n",
      "               classes   top1_acc   top5_acc: 100%|██████████| 1/1 [00:00<00:00,  2.70it/s]"
     ]
    },
    {
     "name": "stdout",
     "output_type": "stream",
     "text": [
      "                   all      0.769          1\n",
      "\n",
      "      Epoch    GPU_mem       loss  Instances       Size\n"
     ]
    },
    {
     "name": "stderr",
     "output_type": "stream",
     "text": [
      "\n",
      "      51/55         0G     0.2145          7        224: 100%|██████████| 8/8 [00:05<00:00,  1.39it/s]\n",
      "               classes   top1_acc   top5_acc: 100%|██████████| 1/1 [00:00<00:00,  2.65it/s]"
     ]
    },
    {
     "name": "stdout",
     "output_type": "stream",
     "text": [
      "                   all      0.769          1\n",
      "\n",
      "      Epoch    GPU_mem       loss  Instances       Size\n"
     ]
    },
    {
     "name": "stderr",
     "output_type": "stream",
     "text": [
      "\n",
      "      52/55         0G     0.1393          7        224: 100%|██████████| 8/8 [00:06<00:00,  1.31it/s]\n",
      "               classes   top1_acc   top5_acc: 100%|██████████| 1/1 [00:00<00:00,  2.56it/s]"
     ]
    },
    {
     "name": "stdout",
     "output_type": "stream",
     "text": [
      "                   all      0.769          1\n",
      "\n",
      "      Epoch    GPU_mem       loss  Instances       Size\n"
     ]
    },
    {
     "name": "stderr",
     "output_type": "stream",
     "text": [
      "\n",
      "      53/55         0G     0.1268          7        224: 100%|██████████| 8/8 [00:05<00:00,  1.36it/s]\n",
      "               classes   top1_acc   top5_acc: 100%|██████████| 1/1 [00:00<00:00,  2.65it/s]"
     ]
    },
    {
     "name": "stdout",
     "output_type": "stream",
     "text": [
      "                   all      0.769          1\n",
      "\n",
      "      Epoch    GPU_mem       loss  Instances       Size\n"
     ]
    },
    {
     "name": "stderr",
     "output_type": "stream",
     "text": [
      "\n",
      "      54/55         0G     0.1853          7        224: 100%|██████████| 8/8 [00:05<00:00,  1.38it/s]\n",
      "               classes   top1_acc   top5_acc: 100%|██████████| 1/1 [00:00<00:00,  2.72it/s]"
     ]
    },
    {
     "name": "stdout",
     "output_type": "stream",
     "text": [
      "                   all      0.769          1\n",
      "\n",
      "      Epoch    GPU_mem       loss  Instances       Size\n"
     ]
    },
    {
     "name": "stderr",
     "output_type": "stream",
     "text": [
      "\n",
      "      55/55         0G     0.1865          7        224: 100%|██████████| 8/8 [00:05<00:00,  1.39it/s]\n",
      "               classes   top1_acc   top5_acc: 100%|██████████| 1/1 [00:00<00:00,  2.63it/s]"
     ]
    },
    {
     "name": "stdout",
     "output_type": "stream",
     "text": [
      "                   all      0.808          1\n",
      "\n",
      "55 epochs completed in 0.096 hours.\n",
      "Optimizer stripped from runs/classify/train8/weights/last.pt, 3.2MB\n"
     ]
    },
    {
     "name": "stderr",
     "output_type": "stream",
     "text": [
      "\n"
     ]
    },
    {
     "name": "stdout",
     "output_type": "stream",
     "text": [
      "Optimizer stripped from runs/classify/train8/weights/best.pt, 3.2MB\n",
      "\n",
      "Validating runs/classify/train8/weights/best.pt...\n",
      "Ultralytics 8.3.91 🚀 Python-3.12.2 torch-2.2.1 CPU (Apple M1 Pro)\n",
      "YOLO11n-cls summary (fused): 47 layers, 1,531,148 parameters, 0 gradients, 3.2 GFLOPs\n",
      "WARNING ⚠️ Dataset 'split=val' not found, using 'split=test' instead.\n",
      "\u001b[34m\u001b[1mtrain:\u001b[0m /Users/nicholask/Desktop/HACKATHON/datasets/PaHaW_2/train... found 119 images in 4 classes ✅ \n",
      "\u001b[34m\u001b[1mval:\u001b[0m /Users/nicholask/Desktop/HACKATHON/datasets/PaHaW_2/test... found 26 images in 4 classes ✅ \n",
      "\u001b[34m\u001b[1mtest:\u001b[0m /Users/nicholask/Desktop/HACKATHON/datasets/PaHaW_2/test... found 26 images in 4 classes ✅ \n"
     ]
    },
    {
     "name": "stderr",
     "output_type": "stream",
     "text": [
      "               classes   top1_acc   top5_acc: 100%|██████████| 1/1 [00:00<00:00,  2.66it/s]\n"
     ]
    },
    {
     "name": "stdout",
     "output_type": "stream",
     "text": [
      "                   all      0.846          1\n",
      "Speed: 0.0ms preprocess, 12.4ms inference, 0.0ms loss, 0.0ms postprocess per image\n",
      "Results saved to \u001b[1mruns/classify/train8\u001b[0m\n"
     ]
    }
   ],
   "source": [
    "from ultralytics import YOLO\n",
    "\n",
    "model = YOLO(\"yolo11n-cls.pt\")\n",
    "\n",
    "results = model.train(data = '/Users/nicholask/Desktop/HACKATHON/datasets/PaHaW_2', epochs=55)"
   ]
  },
  {
   "cell_type": "code",
   "execution_count": 10,
   "metadata": {},
   "outputs": [
    {
     "name": "stdout",
     "output_type": "stream",
     "text": [
      "Ultralytics 8.3.91 🚀 Python-3.12.2 torch-2.2.1 CPU (Apple M1 Pro)\n",
      "YOLO11n-cls summary (fused): 47 layers, 1,531,148 parameters, 0 gradients, 3.2 GFLOPs\n",
      "\n",
      "\u001b[34m\u001b[1mPyTorch:\u001b[0m starting from 'runs/classify/train8/weights/best.pt' with input shape (1, 3, 224, 224) BCHW and output shape(s) (1, 4) (0.0 MB)\n",
      "\n",
      "\u001b[34m\u001b[1mTorchScript:\u001b[0m starting export with torch 2.2.1...\n",
      "\u001b[34m\u001b[1mTorchScript:\u001b[0m export failure ❌ 0.9s: Parent directory runs/classify/train8/weights does not exist.\n"
     ]
    },
    {
     "ename": "RuntimeError",
     "evalue": "Parent directory runs/classify/train8/weights does not exist.",
     "output_type": "error",
     "traceback": [
      "\u001b[31m---------------------------------------------------------------------------\u001b[39m",
      "\u001b[31mRuntimeError\u001b[39m                              Traceback (most recent call last)",
      "\u001b[36mCell\u001b[39m\u001b[36m \u001b[39m\u001b[32mIn[10]\u001b[39m\u001b[32m, line 1\u001b[39m\n\u001b[32m----> \u001b[39m\u001b[32m1\u001b[39m \u001b[43mmodel\u001b[49m\u001b[43m.\u001b[49m\u001b[43mexport\u001b[49m\u001b[43m(\u001b[49m\u001b[43m)\u001b[49m\n",
      "\u001b[36mFile \u001b[39m\u001b[32m~/opt/anaconda3/envs/pytorch/lib/python3.12/site-packages/ultralytics/engine/model.py:728\u001b[39m, in \u001b[36mModel.export\u001b[39m\u001b[34m(self, **kwargs)\u001b[39m\n\u001b[32m    720\u001b[39m custom = {\n\u001b[32m    721\u001b[39m     \u001b[33m\"\u001b[39m\u001b[33mimgsz\u001b[39m\u001b[33m\"\u001b[39m: \u001b[38;5;28mself\u001b[39m.model.args[\u001b[33m\"\u001b[39m\u001b[33mimgsz\u001b[39m\u001b[33m\"\u001b[39m],\n\u001b[32m    722\u001b[39m     \u001b[33m\"\u001b[39m\u001b[33mbatch\u001b[39m\u001b[33m\"\u001b[39m: \u001b[32m1\u001b[39m,\n\u001b[32m   (...)\u001b[39m\u001b[32m    725\u001b[39m     \u001b[33m\"\u001b[39m\u001b[33mverbose\u001b[39m\u001b[33m\"\u001b[39m: \u001b[38;5;28;01mFalse\u001b[39;00m,\n\u001b[32m    726\u001b[39m }  \u001b[38;5;66;03m# method defaults\u001b[39;00m\n\u001b[32m    727\u001b[39m args = {**\u001b[38;5;28mself\u001b[39m.overrides, **custom, **kwargs, \u001b[33m\"\u001b[39m\u001b[33mmode\u001b[39m\u001b[33m\"\u001b[39m: \u001b[33m\"\u001b[39m\u001b[33mexport\u001b[39m\u001b[33m\"\u001b[39m}  \u001b[38;5;66;03m# highest priority args on the right\u001b[39;00m\n\u001b[32m--> \u001b[39m\u001b[32m728\u001b[39m \u001b[38;5;28;01mreturn\u001b[39;00m \u001b[43mExporter\u001b[49m\u001b[43m(\u001b[49m\u001b[43moverrides\u001b[49m\u001b[43m=\u001b[49m\u001b[43margs\u001b[49m\u001b[43m,\u001b[49m\u001b[43m \u001b[49m\u001b[43m_callbacks\u001b[49m\u001b[43m=\u001b[49m\u001b[38;5;28;43mself\u001b[39;49m\u001b[43m.\u001b[49m\u001b[43mcallbacks\u001b[49m\u001b[43m)\u001b[49m\u001b[43m(\u001b[49m\u001b[43mmodel\u001b[49m\u001b[43m=\u001b[49m\u001b[38;5;28;43mself\u001b[39;49m\u001b[43m.\u001b[49m\u001b[43mmodel\u001b[49m\u001b[43m)\u001b[49m\n",
      "\u001b[36mFile \u001b[39m\u001b[32m~/opt/anaconda3/envs/pytorch/lib/python3.12/site-packages/ultralytics/engine/exporter.py:429\u001b[39m, in \u001b[36mExporter.__call__\u001b[39m\u001b[34m(self, model)\u001b[39m\n\u001b[32m    427\u001b[39m f = [\u001b[33m\"\u001b[39m\u001b[33m\"\u001b[39m] * \u001b[38;5;28mlen\u001b[39m(fmts)  \u001b[38;5;66;03m# exported filenames\u001b[39;00m\n\u001b[32m    428\u001b[39m \u001b[38;5;28;01mif\u001b[39;00m jit \u001b[38;5;129;01mor\u001b[39;00m ncnn:  \u001b[38;5;66;03m# TorchScript\u001b[39;00m\n\u001b[32m--> \u001b[39m\u001b[32m429\u001b[39m     f[\u001b[32m0\u001b[39m], _ = \u001b[38;5;28;43mself\u001b[39;49m\u001b[43m.\u001b[49m\u001b[43mexport_torchscript\u001b[49m\u001b[43m(\u001b[49m\u001b[43m)\u001b[49m\n\u001b[32m    430\u001b[39m \u001b[38;5;28;01mif\u001b[39;00m engine:  \u001b[38;5;66;03m# TensorRT required before ONNX\u001b[39;00m\n\u001b[32m    431\u001b[39m     f[\u001b[32m1\u001b[39m], _ = \u001b[38;5;28mself\u001b[39m.export_engine(dla=dla)\n",
      "\u001b[36mFile \u001b[39m\u001b[32m~/opt/anaconda3/envs/pytorch/lib/python3.12/site-packages/ultralytics/engine/exporter.py:181\u001b[39m, in \u001b[36mtry_export.<locals>.outer_func\u001b[39m\u001b[34m(*args, **kwargs)\u001b[39m\n\u001b[32m    179\u001b[39m \u001b[38;5;28;01mexcept\u001b[39;00m \u001b[38;5;167;01mException\u001b[39;00m \u001b[38;5;28;01mas\u001b[39;00m e:\n\u001b[32m    180\u001b[39m     LOGGER.error(\u001b[33mf\u001b[39m\u001b[33m\"\u001b[39m\u001b[38;5;132;01m{\u001b[39;00mprefix\u001b[38;5;132;01m}\u001b[39;00m\u001b[33m export failure ❌ \u001b[39m\u001b[38;5;132;01m{\u001b[39;00mdt.t\u001b[38;5;132;01m:\u001b[39;00m\u001b[33m.1f\u001b[39m\u001b[38;5;132;01m}\u001b[39;00m\u001b[33ms: \u001b[39m\u001b[38;5;132;01m{\u001b[39;00me\u001b[38;5;132;01m}\u001b[39;00m\u001b[33m\"\u001b[39m)\n\u001b[32m--> \u001b[39m\u001b[32m181\u001b[39m     \u001b[38;5;28;01mraise\u001b[39;00m e\n",
      "\u001b[36mFile \u001b[39m\u001b[32m~/opt/anaconda3/envs/pytorch/lib/python3.12/site-packages/ultralytics/engine/exporter.py:176\u001b[39m, in \u001b[36mtry_export.<locals>.outer_func\u001b[39m\u001b[34m(*args, **kwargs)\u001b[39m\n\u001b[32m    174\u001b[39m \u001b[38;5;28;01mtry\u001b[39;00m:\n\u001b[32m    175\u001b[39m     \u001b[38;5;28;01mwith\u001b[39;00m Profile() \u001b[38;5;28;01mas\u001b[39;00m dt:\n\u001b[32m--> \u001b[39m\u001b[32m176\u001b[39m         f, model = \u001b[43minner_func\u001b[49m\u001b[43m(\u001b[49m\u001b[43m*\u001b[49m\u001b[43margs\u001b[49m\u001b[43m,\u001b[49m\u001b[43m \u001b[49m\u001b[43m*\u001b[49m\u001b[43m*\u001b[49m\u001b[43mkwargs\u001b[49m\u001b[43m)\u001b[49m\n\u001b[32m    177\u001b[39m     LOGGER.info(\u001b[33mf\u001b[39m\u001b[33m\"\u001b[39m\u001b[38;5;132;01m{\u001b[39;00mprefix\u001b[38;5;132;01m}\u001b[39;00m\u001b[33m export success ✅ \u001b[39m\u001b[38;5;132;01m{\u001b[39;00mdt.t\u001b[38;5;132;01m:\u001b[39;00m\u001b[33m.1f\u001b[39m\u001b[38;5;132;01m}\u001b[39;00m\u001b[33ms, saved as \u001b[39m\u001b[33m'\u001b[39m\u001b[38;5;132;01m{\u001b[39;00mf\u001b[38;5;132;01m}\u001b[39;00m\u001b[33m'\u001b[39m\u001b[33m (\u001b[39m\u001b[38;5;132;01m{\u001b[39;00mfile_size(f)\u001b[38;5;132;01m:\u001b[39;00m\u001b[33m.1f\u001b[39m\u001b[38;5;132;01m}\u001b[39;00m\u001b[33m MB)\u001b[39m\u001b[33m\"\u001b[39m)\n\u001b[32m    178\u001b[39m     \u001b[38;5;28;01mreturn\u001b[39;00m f, model\n",
      "\u001b[36mFile \u001b[39m\u001b[32m~/opt/anaconda3/envs/pytorch/lib/python3.12/site-packages/ultralytics/engine/exporter.py:523\u001b[39m, in \u001b[36mExporter.export_torchscript\u001b[39m\u001b[34m(self, prefix)\u001b[39m\n\u001b[32m    521\u001b[39m     optimize_for_mobile(ts)._save_for_lite_interpreter(\u001b[38;5;28mstr\u001b[39m(f), _extra_files=extra_files)\n\u001b[32m    522\u001b[39m \u001b[38;5;28;01melse\u001b[39;00m:\n\u001b[32m--> \u001b[39m\u001b[32m523\u001b[39m     \u001b[43mts\u001b[49m\u001b[43m.\u001b[49m\u001b[43msave\u001b[49m\u001b[43m(\u001b[49m\u001b[38;5;28;43mstr\u001b[39;49m\u001b[43m(\u001b[49m\u001b[43mf\u001b[49m\u001b[43m)\u001b[49m\u001b[43m,\u001b[49m\u001b[43m \u001b[49m\u001b[43m_extra_files\u001b[49m\u001b[43m=\u001b[49m\u001b[43mextra_files\u001b[49m\u001b[43m)\u001b[49m\n\u001b[32m    524\u001b[39m \u001b[38;5;28;01mreturn\u001b[39;00m f, \u001b[38;5;28;01mNone\u001b[39;00m\n",
      "\u001b[36mFile \u001b[39m\u001b[32m~/opt/anaconda3/envs/pytorch/lib/python3.12/site-packages/torch/jit/_script.py:751\u001b[39m, in \u001b[36mRecursiveScriptModule.save\u001b[39m\u001b[34m(self, f, **kwargs)\u001b[39m\n\u001b[32m    742\u001b[39m \u001b[38;5;28;01mdef\u001b[39;00m\u001b[38;5;250m \u001b[39m\u001b[34msave\u001b[39m(\u001b[38;5;28mself\u001b[39m, f, **kwargs):\n\u001b[32m    743\u001b[39m \u001b[38;5;250m    \u001b[39m\u001b[33mr\u001b[39m\u001b[33;03m\"\"\"Save with a file-like object.\u001b[39;00m\n\u001b[32m    744\u001b[39m \n\u001b[32m    745\u001b[39m \u001b[33;03m    save(f, _extra_files={})\u001b[39;00m\n\u001b[32m   (...)\u001b[39m\u001b[32m    749\u001b[39m \u001b[33;03m    DO NOT confuse these two functions when it comes to the 'f' parameter functionality.\u001b[39;00m\n\u001b[32m    750\u001b[39m \u001b[33;03m    \"\"\"\u001b[39;00m\n\u001b[32m--> \u001b[39m\u001b[32m751\u001b[39m     \u001b[38;5;28;01mreturn\u001b[39;00m \u001b[38;5;28;43mself\u001b[39;49m\u001b[43m.\u001b[49m\u001b[43m_c\u001b[49m\u001b[43m.\u001b[49m\u001b[43msave\u001b[49m\u001b[43m(\u001b[49m\u001b[38;5;28;43mstr\u001b[39;49m\u001b[43m(\u001b[49m\u001b[43mf\u001b[49m\u001b[43m)\u001b[49m\u001b[43m,\u001b[49m\u001b[43m \u001b[49m\u001b[43m*\u001b[49m\u001b[43m*\u001b[49m\u001b[43mkwargs\u001b[49m\u001b[43m)\u001b[49m\n",
      "\u001b[31mRuntimeError\u001b[39m: Parent directory runs/classify/train8/weights does not exist."
     ]
    }
   ],
   "source": [
    "model.export()"
   ]
  }
 ],
 "metadata": {
  "kernelspec": {
   "display_name": "pytorch",
   "language": "python",
   "name": "python3"
  },
  "language_info": {
   "codemirror_mode": {
    "name": "ipython",
    "version": 3
   },
   "file_extension": ".py",
   "mimetype": "text/x-python",
   "name": "python",
   "nbconvert_exporter": "python",
   "pygments_lexer": "ipython3",
   "version": "3.12.2"
  }
 },
 "nbformat": 4,
 "nbformat_minor": 2
}
